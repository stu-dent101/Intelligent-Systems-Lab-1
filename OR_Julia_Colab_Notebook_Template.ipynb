{
  "nbformat": 4,
  "nbformat_minor": 0,
  "metadata": {
    "colab": {
      "provenance": [],
      "collapsed_sections": [
        "MF8J4CkiPFPa",
        "8YF32zmKV8kq",
        "fI4ot3nJRThh",
        "KRZc2QsCRTy7",
        "gnjWH-sdN7UX",
        "7ahSI_L1PdnN"
      ],
      "include_colab_link": true
    },
    "kernelspec": {
      "display_name": "Julia",
      "language": "julia",
      "name": "julia"
    },
    "language_info": {
      "file_extension": ".jl",
      "mimetype": "application/julia",
      "name": "julia"
    }
  },
  "cells": [
    {
      "cell_type": "markdown",
      "metadata": {
        "id": "view-in-github",
        "colab_type": "text"
      },
      "source": [
        "<a href=\"https://colab.research.google.com/github/stu-dent101/Intelligent-Systems-Lab-1/blob/main/OR_Julia_Colab_Notebook_Template.ipynb\" target=\"_parent\"><img src=\"https://colab.research.google.com/assets/colab-badge.svg\" alt=\"Open In Colab\"/></a>"
      ]
    },
    {
      "cell_type": "code",
      "source": [],
      "metadata": {
        "id": "GHyN7aQ3yIX-"
      },
      "execution_count": null,
      "outputs": []
    },
    {
      "cell_type": "markdown",
      "metadata": {
        "id": "tQ1r1bbb0yBv"
      },
      "source": [
        "# <img src=\"https://github.com/JuliaLang/julia-logo-graphics/raw/master/images/julia-logo-color.png\" height=\"100\" /> _Colab Notebook Template_\n",
        "\n",
        "## Instructions\n",
        "1. Work on a copy of this notebook: _File_ > _Save a copy in Drive_ (you will need a Google account). Alternatively, you can download the notebook using _File_ > _Download .ipynb_, then upload it to [Colab](https://colab.research.google.com/).\n",
        "2. If you need a GPU: _Runtime_ > _Change runtime type_ > _Harware accelerator_ = _GPU_.\n",
        "3. Execute the following cell (click on it and press Ctrl+Enter) to install Julia, IJulia and other packages (if needed, update `JULIA_VERSION` and the other parameters). This takes a couple of minutes.\n",
        "4. Reload this page (press Ctrl+R, or ⌘+R, or the F5 key) and continue to the next section.\n",
        "\n",
        "_Notes_:\n",
        "* If your Colab Runtime gets reset (e.g., due to inactivity), repeat steps 2, 3 and 4.\n",
        "* After installation, if you want to change the Julia version or activate/deactivate the GPU, you will need to reset the Runtime: _Runtime_ > _Factory reset runtime_ and repeat steps 3 and 4."
      ]
    },
    {
      "cell_type": "code",
      "metadata": {
        "id": "GIeFXS0F0zww",
        "colab": {
          "base_uri": "https://localhost:8080/"
        },
        "outputId": "e1f41771-55f4-4630-fe17-21160bbeac1b"
      },
      "source": [
        "%%shell\n",
        "set -e\n",
        "\n",
        "#---------------------------------------------------#\n",
        "JULIA_VERSION=\"1.8.2\" # any version ≥ 0.7.0\n",
        "JULIA_PACKAGES=\"IJulia BenchmarkTools JuMP Cbc GLPK\"\n",
        "JULIA_PACKAGES_IF_GPU=\"CUDA\" # or CuArrays for older Julia versions\n",
        "JULIA_NUM_THREADS=2\n",
        "#---------------------------------------------------#\n",
        "\n",
        "if [ -z `which julia` ]; then\n",
        "  # Install Julia\n",
        "  JULIA_VER=`cut -d '.' -f -2 <<< \"$JULIA_VERSION\"`\n",
        "  echo \"Installing Julia $JULIA_VERSION on the current Colab Runtime...\"\n",
        "  BASE_URL=\"https://julialang-s3.julialang.org/bin/linux/x64\"\n",
        "  URL=\"$BASE_URL/$JULIA_VER/julia-$JULIA_VERSION-linux-x86_64.tar.gz\"\n",
        "  wget -nv $URL -O /tmp/julia.tar.gz # -nv means \"not verbose\"\n",
        "  tar -x -f /tmp/julia.tar.gz -C /usr/local --strip-components 1\n",
        "  rm /tmp/julia.tar.gz\n",
        "\n",
        "  # Install Packages\n",
        "  nvidia-smi -L &> /dev/null && export GPU=1 || export GPU=0\n",
        "  if [ $GPU -eq 1 ]; then\n",
        "    JULIA_PACKAGES=\"$JULIA_PACKAGES $JULIA_PACKAGES_IF_GPU\"\n",
        "  fi\n",
        "  for PKG in `echo $JULIA_PACKAGES`; do\n",
        "    echo \"Installing Julia package $PKG...\"\n",
        "    julia -e 'using Pkg; pkg\"add '$PKG'; precompile;\"' &> /dev/null\n",
        "  done\n",
        "\n",
        "  # Install kernel and rename it to \"julia\"\n",
        "  echo \"Installing IJulia kernel...\"\n",
        "  julia -e 'using IJulia; IJulia.installkernel(\"julia\", env=Dict(\n",
        "      \"JULIA_NUM_THREADS\"=>\"'\"$JULIA_NUM_THREADS\"'\"))'\n",
        "  KERNEL_DIR=`julia -e \"using IJulia; print(IJulia.kerneldir())\"`\n",
        "  KERNEL_NAME=`ls -d \"$KERNEL_DIR\"/julia*`\n",
        "  mv -f $KERNEL_NAME \"$KERNEL_DIR\"/julia\n",
        "\n",
        "  echo ''\n",
        "  echo \"Successfully installed `julia -v`!\"\n",
        "  echo \"Please reload this page (press Ctrl+R, ⌘+R, or the F5 key) then\"\n",
        "  echo \"jump to the 'Checking the Installation' section.\"\n",
        "fi"
      ],
      "execution_count": null,
      "outputs": [
        {
          "output_type": "stream",
          "name": "stdout",
          "text": [
            "Installing Julia 1.8.2 on the current Colab Runtime...\n",
            "2025-01-27 03:18:28 URL:https://storage.googleapis.com/julialang2/bin/linux/x64/1.8/julia-1.8.2-linux-x86_64.tar.gz [135859273/135859273] -> \"/tmp/julia.tar.gz\" [1]\n",
            "Installing Julia package IJulia...\n",
            "Installing Julia package BenchmarkTools...\n",
            "Installing Julia package JuMP...\n",
            "Installing Julia package Cbc...\n",
            "Installing IJulia kernel...\n",
            "\u001b[36m\u001b[1m[ \u001b[22m\u001b[39m\u001b[36m\u001b[1mInfo: \u001b[22m\u001b[39mInstalling julia kernelspec in /root/.local/share/jupyter/kernels/julia-1.8\n",
            "\n",
            "Successfully installed julia version 1.8.2!\n",
            "Please reload this page (press Ctrl+R, ⌘+R, or the F5 key) then\n",
            "jump to the 'Checking the Installation' section.\n"
          ]
        },
        {
          "output_type": "execute_result",
          "data": {
            "text/plain": []
          },
          "metadata": {},
          "execution_count": 1
        }
      ]
    },
    {
      "cell_type": "markdown",
      "source": [
        "## Tell the Co-lab notebook about the newly installed Julia Runtime\n",
        "\n",
        "# <img src=\"https://github.com/justkrismanohar/comp3608-2025-labs/blob/main/Lab1/images/install_menu_1.png?raw=true\"  />\n",
        "# <img src=\"https://github.com/justkrismanohar/comp3608-2025-labs/blob/main/Lab1/images/install_menu_2.png?raw=true\"  />"
      ],
      "metadata": {
        "id": "5ZXEL1zOyia-"
      }
    },
    {
      "cell_type": "markdown",
      "metadata": {
        "id": "-OS3Ac017T1i"
      },
      "source": [
        "# Checking the Installation\n",
        "The `versioninfo()` function should print your Julia version and some other info about the system:"
      ]
    },
    {
      "cell_type": "code",
      "metadata": {
        "id": "EEzvvzCl1i0F",
        "colab": {
          "base_uri": "https://localhost:8080/"
        },
        "outputId": "7cce9b61-0ad2-4410-d14e-f8182b04cded"
      },
      "source": [
        "versioninfo()"
      ],
      "execution_count": null,
      "outputs": [
        {
          "output_type": "stream",
          "name": "stdout",
          "text": [
            "Julia Version 1.8.2\n",
            "Commit 36034abf260 (2022-09-29 15:21 UTC)\n",
            "Platform Info:\n",
            "  OS: Linux (x86_64-linux-gnu)\n",
            "  CPU: 2 × Intel(R) Xeon(R) CPU @ 2.20GHz\n",
            "  WORD_SIZE: 64\n",
            "  LIBM: libopenlibm\n",
            "  LLVM: libLLVM-13.0.1 (ORCJIT, broadwell)\n",
            "  Threads: 2 on 2 virtual cores\n",
            "Environment:\n",
            "  LD_LIBRARY_PATH = /usr/local/nvidia/lib:/usr/local/nvidia/lib64\n",
            "  JULIA_NUM_THREADS = 2\n"
          ]
        }
      ]
    },
    {
      "cell_type": "code",
      "source": [
        "using BenchmarkTools\n",
        "\n",
        "M = rand(2^11, 2^11)\n",
        "\n",
        "@btime $M * $M;"
      ],
      "metadata": {
        "colab": {
          "base_uri": "https://localhost:8080/"
        },
        "id": "YjM_qq54lCcs",
        "outputId": "ac492642-9c5b-4c52-854c-a0d00579f781"
      },
      "execution_count": null,
      "outputs": [
        {
          "output_type": "stream",
          "name": "stdout",
          "text": [
            "  555.253 ms (2 allocations: 32.00 MiB)\n"
          ]
        }
      ]
    },
    {
      "cell_type": "markdown",
      "source": [
        "# Introduction to Julia\n",
        "\n",
        "**Taken from https://www.freecodecamp.org/news/learn-julia-programming-language/**\n",
        "\n",
        "An Introduction to Julia Variables and Types\n",
        "In Julia, variables are ***dynamically*** typed, meaning that you do not need to specify the variable's type when you create it.\n",
        "\n",
        "Try:\n",
        "```Julia\n",
        "a = 10\n",
        "a = a + 10\n",
        "```"
      ],
      "metadata": {
        "id": "OC2TIw444Wrn"
      }
    },
    {
      "cell_type": "code",
      "source": [
        "#Your code here"
      ],
      "metadata": {
        "id": "SUNo10BY4tLm"
      },
      "execution_count": null,
      "outputs": []
    },
    {
      "cell_type": "markdown",
      "source": [
        "Just like we defined a variable above and assigned it an integer (whole number), we can also do something similar for strings and other variable types:\n",
        "\n",
        "```Julia\n",
        "my_string = \"Hello freeCodeCamp\" # Define a string variable\n",
        "balance = 238.19 # Define a float variable\n",
        "```"
      ],
      "metadata": {
        "id": "WuAPGVLG5JTt"
      }
    },
    {
      "cell_type": "code",
      "source": [
        "#Your code here"
      ],
      "metadata": {
        "id": "Jq39cB8m5ITW"
      },
      "execution_count": null,
      "outputs": []
    },
    {
      "cell_type": "markdown",
      "source": [
        "Can use `typeof(balance)` to inspect its type"
      ],
      "metadata": {
        "id": "BD53bNm_5iCK"
      }
    },
    {
      "cell_type": "code",
      "source": [
        "#Your code here"
      ],
      "metadata": {
        "id": "6xut5jKS5g1O"
      },
      "execution_count": null,
      "outputs": []
    },
    {
      "cell_type": "markdown",
      "source": [
        "What wouldthe output for the last line here?\n",
        "```Julia\n",
        "holder_balance = 100.34\n",
        "holder_balance = \"The Type has changed\"\n",
        "typeof(holder_balance)\n",
        "```"
      ],
      "metadata": {
        "id": "A3IPmgno51ML"
      }
    },
    {
      "cell_type": "code",
      "source": [
        "#Your code here"
      ],
      "metadata": {
        "id": "MX1QiwWq51vw"
      },
      "execution_count": null,
      "outputs": []
    },
    {
      "cell_type": "markdown",
      "source": [
        "## How to Write Conditional Statements in Julia\n",
        "In programming, you often need to check certain conditions in order to make sure that specific lines of code run. For example, if you write a banking program, you might only want to let someone withdraw money if the amount they are trying to withdraw is less than the amount they have present in their account.\n",
        "\n",
        "Let us look at a basic example of a conditional statement in Julia:\n",
        "\n",
        "```Julia\n",
        "bank_balance = 4583.11\n",
        "withdraw_amount = 250\n",
        "if withdraw_amount <= bank_balance\n",
        "           bank_balance -= withdraw_amount\n",
        "           print(\"Withdrew \", withdraw_amount, \" from your account\")\n",
        "end\n",
        "```\n",
        "\n",
        "What is the expected output?"
      ],
      "metadata": {
        "id": "wUN8THbF7AR2"
      }
    },
    {
      "cell_type": "code",
      "source": [
        "#your code here"
      ],
      "metadata": {
        "id": "LfVulYtW7ah2"
      },
      "execution_count": null,
      "outputs": []
    },
    {
      "cell_type": "markdown",
      "source": [
        "Let us take a closer look here at some parts of the if statement that might differ from other code you have seen: First, we use no `:` to denote the end of the line and we also are not required to use `()` around the statement (though it is encouraged). Next, we don't use `{}` or the like to denote the end of the conditional, instead, we use the end keyword.\n",
        "\n",
        "Just like we used the `if` statement, we can chain it with an `else` or an `elseif`:\n",
        "\n",
        "```Julia\n",
        "bank_balance = 4583.11\n",
        "withdraw_amount = 4600\n",
        "if withdraw_amount <= bank_balance\n",
        "    bank_balance -= withdraw_amount\n",
        "    print(\"Withdrew \", withdraw_amount, \" from your account\")\n",
        "else\n",
        "    print(\"Insufficent balance\")\n",
        "end\n",
        "```\n",
        "\n",
        "What is the expected output?"
      ],
      "metadata": {
        "id": "fvAE1E847_rl"
      }
    },
    {
      "cell_type": "code",
      "source": [
        "#your code here"
      ],
      "metadata": {
        "id": "MUeB4n877-SP"
      },
      "execution_count": null,
      "outputs": []
    },
    {
      "cell_type": "markdown",
      "source": [
        "## How to use Loops in Julia\n",
        "There are two main types of loops in Julia: a `for` loop and a `while` loop. As is the same with other languages, the biggest difference is that in a `for` loop, you are going through a pre-defined number of items whereas, in a `while` loop, you are iterating until some condition is changed.\n",
        "\n",
        "Syntactically, the loops in Julia look very similar in structure to the if conditionals we just looked at:\n",
        "\n",
        "```Julia\n",
        "greeting = [\"Hello\", \"world\", \"and\", \"welcome\", \"to\", \"freeCodeCamp\"] # define greeting, an array of strings\n",
        "\n",
        "for word in greeting\n",
        "  print(word, \" \")\n",
        "end\n",
        "```\n",
        "\n",
        "What is the expected output?"
      ],
      "metadata": {
        "id": "-iPlcZMI8sWX"
      }
    },
    {
      "cell_type": "code",
      "source": [
        "#your code here"
      ],
      "metadata": {
        "id": "0nPFmNX09Fax"
      },
      "execution_count": null,
      "outputs": []
    },
    {
      "cell_type": "markdown",
      "source": [
        "In this example, we first defined a new type: a vector (also called an array). This array is holding a bunch of strings we defined. The behavior is very similar to that of arrays in other languages but it is worth noting that arrays are mutable (meaning you can change the number of items in the array after you create it).\n",
        "\n",
        "Again, when we look at the structure of the `for` loop, you can see that we are iterating through the greeting variable. Each time through, we get a new word (in this case) from the array and assign it to a temporary variable word which we then print out. You will notice that the structure of this loop looks similar to the if statement and again uses the end keyword.\n",
        "\n",
        "Now that we explored for loops, let us switch gears and take a look at a `while` loop in Julia:\n",
        "\n",
        "```Julia\n",
        "user_input = \"\"\n",
        "while user_input != \"End\"\n",
        "    print(\"Enter some input, or End to quit: \")\n",
        "    user_input = readline() # Prompt the user for input\n",
        "end\n",
        "```\n",
        "\n",
        "Can you explain whats happening here?"
      ],
      "metadata": {
        "id": "Ww6l_Q6Y9d5o"
      }
    },
    {
      "cell_type": "code",
      "source": [
        "#your code here"
      ],
      "metadata": {
        "id": "FFv171NS9csP"
      },
      "execution_count": null,
      "outputs": []
    },
    {
      "cell_type": "markdown",
      "source": [
        "You can specify a range of values as `start:end`\n",
        "Try to the code below\n",
        "\n",
        "```Julia\n",
        "for i = 1:10\n",
        "  println(i)\n",
        "end\n",
        "```\n",
        "\n",
        "Can a specify the step size for the ranges as `start:step_size:end`\n",
        "Try to the code below\n",
        "\n",
        "```Julia\n",
        "for i = 1:2:10\n",
        "  println(i)\n",
        "end\n",
        "```"
      ],
      "metadata": {
        "id": "5C8ISrir-V77"
      }
    },
    {
      "cell_type": "code",
      "source": [
        "#your code here"
      ],
      "metadata": {
        "id": "QvkXd4FQ-oi2"
      },
      "execution_count": null,
      "outputs": []
    },
    {
      "cell_type": "markdown",
      "source": [
        "## How to use Functions in Julia\n",
        "Functions are used to create multiple lines of code, chained together, and accessible when you reference a function name. First, let us look at an example of a basic function:\n",
        "\n",
        "```Julia\n",
        "function greet()\n",
        "  print(\"Hello new Julia user!\")\n",
        "end\n",
        "\n",
        "greet() #function call\n",
        "```\n",
        "\n",
        "What is the expected output?"
      ],
      "metadata": {
        "id": "rdWtQ6RJ_dJc"
      }
    },
    {
      "cell_type": "code",
      "source": [
        "#your code here"
      ],
      "metadata": {
        "id": "bwAvudY2_cgq"
      },
      "execution_count": null,
      "outputs": []
    },
    {
      "cell_type": "markdown",
      "source": [
        "Functions can also take arguments, just like in other languages:\n",
        "\n",
        "```Julia\n",
        "function greetuser(user_name)\n",
        "  print(\"Hello \", user_name, \", welcome to the Julia Community\")\n",
        "end\n",
        "\n",
        "greetuser(\"Logan\")\n",
        "```\n",
        "\n",
        "What is the expected output?"
      ],
      "metadata": {
        "id": "Mgf5jXL4_5tB"
      }
    },
    {
      "cell_type": "code",
      "source": [
        "#your code here"
      ],
      "metadata": {
        "id": "DUp1DXTAAFh5"
      },
      "execution_count": null,
      "outputs": []
    },
    {
      "cell_type": "markdown",
      "source": [
        "In this example, we take in one argument, and then add its value to the print out. But what if we don't get a string?\n",
        "\n",
        "```Julia\n",
        "greetuser(true)\n",
        "```\n",
        "\n",
        "What is the expected output?"
      ],
      "metadata": {
        "id": "vyXOijKVATJY"
      }
    },
    {
      "cell_type": "code",
      "source": [
        "greetuser(true)"
      ],
      "metadata": {
        "colab": {
          "base_uri": "https://localhost:8080/"
        },
        "id": "t2kckGZAAQ60",
        "outputId": "a4c319a5-4ff3-459d-f467-4ddc29212cf3"
      },
      "execution_count": null,
      "outputs": [
        {
          "output_type": "stream",
          "name": "stdout",
          "text": [
            "Hello true, welcome to the Julia Community"
          ]
        }
      ]
    },
    {
      "cell_type": "markdown",
      "source": [
        "In this case, since we are just printing, the function continues to work despite not taking in a string anymore and instead of taking a boolean value (true or false). To prevent this from occurring, we can explicitly type the input arguments as follows:\n",
        "\n",
        "```Julia\n",
        "function greetuser(user_name::String)\n",
        "  print(\"Hello \", user_name, \", welcome to the Julia Community\")\n",
        "end\n",
        "\n",
        "greetuser(\"Logan\")\n",
        "```\n",
        "\n",
        "So now the function is defined to take in only a string. Let us test this out to make sure we can only call the function with a string value:\n",
        "\n",
        "```Julia\n",
        "greetuser(true)\n",
        "```\n"
      ],
      "metadata": {
        "id": "9KNZez9hAiS4"
      }
    },
    {
      "cell_type": "code",
      "source": [
        "#your code here"
      ],
      "metadata": {
        "id": "bPjJJAlHBRlw"
      },
      "execution_count": null,
      "outputs": []
    },
    {
      "cell_type": "markdown",
      "source": [
        "Wait a second, why is this happening? We re-defined the `greetuser` function, it should not take true anymore.\n",
        "\n",
        "What we are experiencing here is one of the most powerful underlying features of Julia: ***Multiple Dispatch***. Julia allows us to define functions with the same name and number of arguments *but that accept different types*. This means we can build either generic or type specific versions of functions which helps immensely with code readability since you don't need to handle every scenario in one function.\n",
        "\n",
        "We should quickly confirm that we actually defined both functions:\n",
        "```Julia\n",
        "methods(greetuser)\n",
        "```\n",
        "\n",
        "The built-in `methods` function is perfect for this and it tells us we have two functions defined, with the only difference being one takes in any type, and the other takes in just a string.\n",
        "\n",
        "It is worth noting that since we defined a specialized version that accepts just a string, anytime we call the function with a string it will call the specialized version. The more generic function will not be called when a string is passed in."
      ],
      "metadata": {
        "id": "s2IEit0qBYaw"
      }
    },
    {
      "cell_type": "code",
      "source": [
        "#your code here"
      ],
      "metadata": {
        "id": "rade71_mBnzl"
      },
      "execution_count": null,
      "outputs": []
    },
    {
      "cell_type": "markdown",
      "source": [
        "Next, let us talk about returning values from a function. In Julia, you have two options, you can use the explicit return keyword, or you can opt to do it implicitly by having the last expression in the function serve as the return value like so:\n",
        "\n",
        "```Julia\n",
        "function sayhi()\n",
        "  \"This is a test\"\n",
        "  \"hi\"\n",
        "end\n",
        "\n",
        "sayhi()\n",
        "```\n",
        "\n",
        "What is the expected output?"
      ],
      "metadata": {
        "id": "4O0Bity9B34u"
      }
    },
    {
      "cell_type": "code",
      "source": [
        "#your code here"
      ],
      "metadata": {
        "id": "_0ONNqKLCGcY"
      },
      "execution_count": null,
      "outputs": []
    },
    {
      "cell_type": "markdown",
      "source": [
        "In the above example, the string value \"hi\" is returned from the function since it is the last expression and there is no explicit return statement. You could also define the function like:\n",
        "\n",
        "```Julia\n",
        "function sayhi()\n",
        "  \"This is a test\"\n",
        "  return \"hi\"\n",
        "end\n",
        "\n",
        "sayhi()\n",
        "```\n",
        "\n",
        "In general, from a readability standpoint, it makes sense to use the explicit return statement in case someone reading your code does not know about the implicit return behavior in Julia functions."
      ],
      "metadata": {
        "id": "8XZINk_zCNVR"
      }
    },
    {
      "cell_type": "code",
      "source": [
        "#your code here"
      ],
      "metadata": {
        "id": "Np2Tk58-CMaA"
      },
      "execution_count": null,
      "outputs": []
    },
    {
      "cell_type": "markdown",
      "source": [
        "Another useful functions feature is the ability to provide optional arguments:\n",
        "\n",
        "```Julia\n",
        "function sayhello(response=\"hello\")\n",
        "  return response\n",
        "end\n",
        "\n",
        "#Frist call\n",
        "sayhello()\n",
        "\n",
        "#Then call\n",
        "sayhello(\"hi\")\n",
        "```\n",
        "In this example, we define response as an optional argument so that we can either allow it to use the default behavior we defined or we can manually override it when necessary. These examples just scratch the surface on what is possible with functions in Julia. If you want to read more about all the cool things you can do, check out: https://docs.julialang.org/en/v1/manual/functions/"
      ],
      "metadata": {
        "id": "zlXvJpPACzej"
      }
    },
    {
      "cell_type": "code",
      "source": [
        "#your code here"
      ],
      "metadata": {
        "id": "ZqQbUlV5DE6v"
      },
      "execution_count": null,
      "outputs": []
    },
    {
      "cell_type": "markdown",
      "source": [
        "# Coding Constraint Satisfcation Models"
      ],
      "metadata": {
        "id": "qdLFIDq4Ichl"
      }
    },
    {
      "cell_type": "markdown",
      "source": [
        "With those simple basics in Julia we can now use `JuMP` to interact with solvers to find the solutions to some simple constraint statisfaction problems!\n",
        "\n",
        "\\begin{equation*}\n",
        "\\text{max} \\quad x_1 + x_2 + x_3 \\\\\n",
        "\\text{subject to } -x_1 +x_2 +3x_3 \\\\\n",
        "x_1 + x_2 +x_3 \\leq 10 \\\\\n",
        "x_1 \\geq 0 \\\\\n",
        "x_2 \\geq 0 \\\\\n",
        "x_3 \\geq 0 \\\\\n",
        "x_1 \\leq 10\n",
        "\\end{equation*}\n",
        "\n",
        "The Julia code to solve the above would be\n",
        "\n",
        "```Julia\n",
        "using JuMP, Cbc\n",
        "\n",
        "# Preparing an optimization model\n",
        "m = Model(Cbc.Optimizer)\n",
        "\n",
        "# Declaring variables\n",
        "@variable(m, 0<= x1 <=10)\n",
        "@variable(m, x2 >=0)\n",
        "@variable(m, x3 >=0)\n",
        "\n",
        "# Setting the objective\n",
        "@objective(m, Max, x1 + 2x2 + 5x3)\n",
        "\n",
        "# Adding constraints\n",
        "@constraint(m, constraint1, -x1 +  x2 + 3x3 <= -5)\n",
        "@constraint(m, constraint2,  x1 + 3x2 - 7x3 <= 10)\n",
        "\n",
        "# Printing the prepared optimization model\n",
        "print(m)\n",
        "\n",
        "# Solving the optimization problem\n",
        "optimize!(m)\n",
        "\n",
        "# Printing the optimal solutions obtained\n",
        "println(\"Optimal Solutions:\")\n",
        "println(\"x1 = \", value(x1))\n",
        "println(\"x2 = \", value(x2))\n",
        "println(\"x3 = \", value(x3))\n",
        "```"
      ],
      "metadata": {
        "id": "KClwbWDoE47z"
      }
    },
    {
      "cell_type": "code",
      "source": [
        "#your code here"
      ],
      "metadata": {
        "colab": {
          "base_uri": "https://localhost:8080/",
          "height": 351
        },
        "id": "x0O8RJ9P18tr",
        "outputId": "a4748dbc-7af1-4386-e9c1-0f409cea1e03"
      },
      "execution_count": null,
      "outputs": [
        {
          "output_type": "display_data",
          "data": {
            "text/latex": "$$ \\begin{aligned}\n\\max\\quad & x1 + 2 x2 + 5 x3\\\\\n\\text{Subject to} \\quad & -x1 + x2 + 3 x3 \\leq -5\\\\\n & x1 + 3 x2 - 7 x3 \\leq 10\\\\\n & x1 \\geq 0\\\\\n & x2 \\geq 0\\\\\n & x3 \\geq 0\\\\\n & x1 \\leq 10\\\\\n\\end{aligned} $$"
          },
          "metadata": {}
        },
        {
          "output_type": "stream",
          "name": "stdout",
          "text": [
            "Optimal Solutions:\n",
            "x1 = 10.0\n",
            "x2 = 2.1875\n",
            "x3 = 0.9374999999999999\n",
            "Presolve 2 (0) rows, 3 (0) columns and 6 (0) elements\n",
            "0  Obj -0 Primal inf 1.6666666 (1) Dual inf 12.666666 (3)\n",
            "2  Obj 19.0625\n",
            "Optimal - objective value 19.0625\n",
            "Optimal objective 19.0625 - 2 iterations time 0.002\n"
          ]
        }
      ]
    },
    {
      "cell_type": "markdown",
      "source": [
        "Try other solvers with\n",
        "\n",
        "```Julia\n",
        "m = Model(GLPK.Optimizer)\n",
        "```\n",
        "\n",
        "in your code above"
      ],
      "metadata": {
        "id": "qO6GYWoTIOFt"
      }
    },
    {
      "cell_type": "code",
      "source": [
        "#your code here"
      ],
      "metadata": {
        "id": "CwR6IONUB2Qt"
      },
      "execution_count": null,
      "outputs": []
    },
    {
      "cell_type": "markdown",
      "source": [
        "Try to write the code to solve\n",
        "\n",
        "\\begin{equation*}\n",
        "\\text{max} \\quad Z = 2x_1 + x_2 \\\\\n",
        "\\text{s.t} \\quad x_1 + x_2 \\leq 40 \\\\\n",
        "4x_1 + x_2 \\leq 100 \\\\\n",
        "x_1 \\geq 0 \\\\\n",
        "x_2 \\geq 0\n",
        "\\end{equation*}\n"
      ],
      "metadata": {
        "id": "qpXschPEJ9ZH"
      }
    },
    {
      "cell_type": "code",
      "source": [
        "#your code here"
      ],
      "metadata": {
        "id": "a6Jp4tlZNADO"
      },
      "execution_count": null,
      "outputs": []
    },
    {
      "cell_type": "markdown",
      "source": [
        "## If you are stuck you can see the sample solution below"
      ],
      "metadata": {
        "id": "MF8J4CkiPFPa"
      }
    },
    {
      "cell_type": "markdown",
      "source": [
        "### Are you sure you really tried?"
      ],
      "metadata": {
        "id": "8YF32zmKV8kq"
      }
    },
    {
      "cell_type": "code",
      "source": [
        "# @title\n",
        "using JuMP, Cbc\n",
        "m = Model(Cbc.Optimizer)\n",
        "\n",
        "@variable(m, x1 >=0)\n",
        "@variable(m, x2 >=0)\n",
        "\n",
        "\n",
        "@objective(m, Max, 2x1 + x2)\n",
        "\n",
        "@constraint(m, x1 + x2 <= 40)\n",
        "@constraint(m, 4x1 + x2 <= 100)\n",
        "\n",
        "print(m)\n",
        "\n",
        "optimize!(m)\n",
        "\n",
        "println(\"Optmial Solutions:\")\n",
        "println(\"x1 = \", value(x1))\n",
        "println(\"x2 = \", value(x2))"
      ],
      "metadata": {
        "colab": {
          "base_uri": "https://localhost:8080/",
          "height": 283
        },
        "collapsed": true,
        "cellView": "form",
        "id": "UYAXvnfJI8Ye",
        "outputId": "026549dd-cd34-4e85-e8bd-4219d787d057"
      },
      "execution_count": null,
      "outputs": [
        {
          "output_type": "display_data",
          "data": {
            "text/latex": "$$ \\begin{aligned}\n\\max\\quad & 2 x1 + x2\\\\\n\\text{Subject to} \\quad & x1 + x2 \\leq 40\\\\\n & 4 x1 + x2 \\leq 100\\\\\n & x1 \\geq 0\\\\\n & x2 \\geq 0\\\\\n\\end{aligned} $$"
          },
          "metadata": {}
        },
        {
          "output_type": "stream",
          "name": "stdout",
          "text": [
            "Optmial Solutions:\n",
            "x1 = 20.0\n",
            "x2 = 20.0\n",
            "Presolve 2 (0) rows, 2 (0) columns and 4 (0) elements\n",
            "0  Obj -0 Dual inf 2.9999998 (2)\n",
            "2  Obj 60\n",
            "Optimal - objective value 60\n",
            "Optimal objective 60 - 2 iterations time 0.002\n"
          ]
        }
      ]
    },
    {
      "cell_type": "markdown",
      "source": [
        "# Question 1\n",
        "\n",
        "Suppose that we wish to enclose a rectangular equipment yard by at most 80 meters of fencing. Formulate an optimization model to find the design of maximum area.\n",
        "\n",
        "1.   Formulate the above as a linear program.\n",
        "2.   Solve the above linear program, giving the optimal number of each model to produce as well as the expected profit."
      ],
      "metadata": {
        "id": "eUqDmTq_RI1k"
      }
    },
    {
      "cell_type": "code",
      "source": [],
      "metadata": {
        "id": "2gtQp3EIU_ov"
      },
      "execution_count": null,
      "outputs": []
    },
    {
      "cell_type": "code",
      "source": [
        "#your code herea"
      ],
      "metadata": {
        "id": "YmhsYwbESJnX"
      },
      "execution_count": null,
      "outputs": []
    },
    {
      "cell_type": "markdown",
      "source": [
        "## Look at solution only after you have really tried\n",
        "\n"
      ],
      "metadata": {
        "id": "fI4ot3nJRThh"
      }
    },
    {
      "cell_type": "markdown",
      "source": [
        "### Are you sure you tried?"
      ],
      "metadata": {
        "id": "KRZc2QsCRTy7"
      }
    },
    {
      "cell_type": "markdown",
      "source": [
        "Question 1's model\n",
        "\n",
        "\\begin{equation*}\n",
        "\\text{max} \\quad lw \\\\\n",
        "\\text{s.t.} \\quad 2l + 2w \\leq 80 \\\\\n",
        "l, w \\geq 0\n",
        "\\end{equation*}"
      ],
      "metadata": {
        "id": "ZrC8BVNaRUC1"
      }
    },
    {
      "cell_type": "markdown",
      "source": [
        "# Question 2\n",
        "\n",
        "A manufacturer produces one of two models, A and B, of a particular machine. Producing one unit of A, yields \\$3000 in profit, and producing one unit of B, yields \\$5000 in profit. In order to produce either model, we need to use a particular part of which we have 18 units. We need 3 units of this part to produce one unit of A, and we need 2 units of this part to produce one unit of B. In addition, due to regulations, the manufacturer can produce at most 4 units of model A and 6 units of model B.\n",
        "\n",
        "\n",
        "1.   Formulate the above as a linear program.\n",
        "2.   Solve the above linear program, giving the optimal number of each model to produce as well as the expected profit."
      ],
      "metadata": {
        "id": "0xWcGuimNZig"
      }
    },
    {
      "cell_type": "code",
      "source": [
        "#your code here"
      ],
      "metadata": {
        "id": "XbRhnLmvPx1f"
      },
      "execution_count": null,
      "outputs": []
    },
    {
      "cell_type": "markdown",
      "source": [
        "## Look at solution only after you have really tried\n"
      ],
      "metadata": {
        "id": "gnjWH-sdN7UX"
      }
    },
    {
      "cell_type": "markdown",
      "source": [
        "### Are you sure you tried?"
      ],
      "metadata": {
        "id": "7ahSI_L1PdnN"
      }
    },
    {
      "cell_type": "markdown",
      "source": [
        "Question 2's model\n",
        "\n",
        "\\begin{equation*}\n",
        "\\text{max} \\quad Z = 3000x_1 + 5000x_2 \\\\\n",
        "\\text{s.t.} \\quad 3x_1 + 2x_2 \\leq 18 \\\\\n",
        "x_1 \\leq 4 \\\\\n",
        "x_2 \\leq 6 \\\\\n",
        "x_1 \\geq 0 \\\\\n",
        "x_2 \\geq 0\n",
        "\\end{equation*}"
      ],
      "metadata": {
        "id": "0cIb2XtIOUAS"
      }
    },
    {
      "cell_type": "code",
      "source": [],
      "metadata": {
        "id": "EidgsVSvN56X"
      },
      "execution_count": null,
      "outputs": []
    },
    {
      "cell_type": "markdown",
      "metadata": {
        "id": "8RC1QNNqk6h1"
      },
      "source": [
        "# Need Help?\n",
        "\n",
        "* Learning: https://julialang.org/learning/\n",
        "* Documentation: https://docs.julialang.org/\n",
        "* Questions & Discussions:\n",
        "  * https://discourse.julialang.org/\n",
        "  * http://julialang.slack.com/\n",
        "  * https://stackoverflow.com/questions/tagged/julia\n",
        "\n",
        "If you ever ask for help or file an issue about Julia, you should generally provide the output of `versioninfo()`."
      ]
    },
    {
      "cell_type": "code",
      "source": [],
      "metadata": {
        "id": "lF494h10N4g_"
      },
      "execution_count": null,
      "outputs": []
    },
    {
      "cell_type": "markdown",
      "metadata": {
        "id": "2UMidUQB03vJ"
      },
      "source": [
        "Add new code cells by clicking the `+ Code` button (or _Insert_ > _Code cell_).\n",
        "\n",
        "Have fun!\n",
        "\n",
        "<img src=\"https://raw.githubusercontent.com/JuliaLang/julia-logo-graphics/master/images/julia-logo-mask.png\" height=\"100\" />"
      ]
    }
  ]
}